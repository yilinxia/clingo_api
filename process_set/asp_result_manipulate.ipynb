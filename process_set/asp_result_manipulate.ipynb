{
 "cells": [
  {
   "cell_type": "code",
   "execution_count": 1,
   "id": "d125c445-8b9e-4dbd-a40d-251fbb85f033",
   "metadata": {},
   "outputs": [],
   "source": [
    "import subprocess\n",
    "import clingo"
   ]
  },
  {
   "cell_type": "markdown",
   "id": "16800513-319c-4eea-ade3-fb4d4eb6429b",
   "metadata": {},
   "source": [
    "## Writing the Code"
   ]
  },
  {
   "cell_type": "code",
   "execution_count": 2,
   "id": "244d6a91-bd21-4225-b0c3-c7162c89904b",
   "metadata": {},
   "outputs": [
    {
     "name": "stdout",
     "output_type": "stream",
     "text": [
      "Overwriting test.lp\n"
     ]
    }
   ],
   "source": [
    "%%file test.lp\n",
    "\n",
    "% Maximum number of states (\"emergency brake\")\n",
    "#const n = 12.\n",
    "\n",
    "e(a,b). e(b,c). e(c,d). e(d,e). e(e,f). e(f,a).\n",
    "\n",
    "fr. % use frame rule, otherwise termination check fails \n",
    "% dr. % use double-recursive rule\n",
    "rr. % use right-recursive rule\n",
    " \n",
    "% Initialize transitive closure tc/2 from facts e/2:\n",
    "tc(0, X,Y) :- e(X,Y).\n",
    "\n",
    "% Frame rule: keep everything you had\n",
    "tc(N1, X,Y) :- fr, next(N,N1),\n",
    "\t       tc(N, X,Y).\n",
    "\n",
    "% % (dr) variant: double-recursive rule\n",
    "% tc(N1, X,Y) :- dr, next(N,N1),\n",
    "% \t       tc(N, X,Z),\n",
    "% \t       tc(N, Z,Y).\n",
    "\n",
    "% (rr) variant: right-recursive rule\n",
    "tc(N1, X,Y) :- rr, next(N,N1),\n",
    "\t       e(X,Z),\n",
    "\t       tc(N, Z,Y).\n",
    "\n",
    "% Which atoms have been newly derived in this round? \n",
    "new_tc(N1,X,Y) :- next(N,N1),\n",
    "\t       tc(N1,X,Y),\n",
    "\t       not tc(N,X,Y).\n",
    "\n",
    "% Compute next state, if there's a need for it\n",
    "next(0,1). \n",
    "next(N1,N2) :- next(N,N1), N2 = N1+1,\n",
    "\t       new_tc(N1, _, _), % if there's something new in N1 => create N2\n",
    "\t       N1 < n.        % this emergency brake is necessary (unfair eval/grounding strategy)\n",
    "\n",
    "% What's the max state index used? \n",
    "max_state(N1) :- next(N,N1), not next(N1, N1+1).\n",
    "\n",
    "%#show tc/3.\n",
    "#show new_tc/3.\n",
    "#show max_state/1."
   ]
  },
  {
   "cell_type": "markdown",
   "id": "0947cc3f-8697-45e6-9c04-82b998869097",
   "metadata": {},
   "source": [
    "## Show Content"
   ]
  },
  {
   "cell_type": "code",
   "execution_count": 3,
   "id": "611b84a8-349e-462b-9c62-00799a72dec5",
   "metadata": {},
   "outputs": [
    {
     "name": "stdout",
     "output_type": "stream",
     "text": [
      "\n",
      "% Maximum number of states (\"emergency brake\")\n",
      "#const n = 12.\n",
      "\n",
      "e(a,b). e(b,c). e(c,d). e(d,e). e(e,f). e(f,a).\n",
      "\n",
      "fr. % use frame rule, otherwise termination check fails \n",
      "% dr. % use double-recursive rule\n",
      "rr. % use right-recursive rule\n",
      " \n",
      "% Initialize transitive closure tc/2 from facts e/2:\n",
      "tc(0, X,Y) :- e(X,Y).\n",
      "\n",
      "% Frame rule: keep everything you had\n",
      "tc(N1, X,Y) :- fr, next(N,N1),\n",
      "\t       tc(N, X,Y).\n",
      "\n",
      "% % (dr) variant: double-recursive rule\n",
      "% tc(N1, X,Y) :- dr, next(N,N1),\n",
      "% \t       tc(N, X,Z),\n",
      "% \t       tc(N, Z,Y).\n",
      "\n",
      "% (rr) variant: right-recursive rule\n",
      "tc(N1, X,Y) :- rr, next(N,N1),\n",
      "\t       e(X,Z),\n",
      "\t       tc(N, Z,Y).\n",
      "\n",
      "% Which atoms have been newly derived in this round? \n",
      "new_tc(N1,X,Y) :- next(N,N1),\n",
      "\t       tc(N1,X,Y),\n",
      "\t       not tc(N,X,Y).\n",
      "\n",
      "% Compute next state, if there's a need for it\n",
      "next(0,1). \n",
      "next(N1,N2) :- next(N,N1), N2 = N1+1,\n",
      "\t       new_tc(N1, _, _), % if there's something new in N1 => create N2\n",
      "\t       N1 < n.        % this emergency brake is necessary (unfair eval/grounding strategy)\n",
      "\n",
      "% What's the max state index used? \n",
      "max_state(N1) :- next(N,N1), not next(N1, N1+1).\n",
      "\n",
      "%#show tc/3.\n",
      "#show new_tc/3.\n",
      "#show max_state/1.\n"
     ]
    }
   ],
   "source": [
    "!cat test.lp"
   ]
  },
  {
   "cell_type": "markdown",
   "id": "bb22f276-a111-42b4-973f-33d1c7965031",
   "metadata": {},
   "source": [
    "## Using Command Line"
   ]
  },
  {
   "cell_type": "code",
   "execution_count": 4,
   "id": "9b3aab86-1e74-438e-8f02-f0a6c01bb3a5",
   "metadata": {},
   "outputs": [],
   "source": [
    "def run_bash(command):\n",
    "    stdout = subprocess.getoutput(command)\n",
    "    result=stdout.split(\"\\n\")[4].split(\" \")\n",
    "    return(result)"
   ]
  },
  {
   "cell_type": "code",
   "execution_count": 5,
   "id": "9b92fbd1-dc8d-4db3-99f6-fed68d83dbac",
   "metadata": {},
   "outputs": [],
   "source": [
    "command='bash -c \"clingo test.lp\"'\n",
    "result=run_bash(command)"
   ]
  },
  {
   "cell_type": "code",
   "execution_count": 6,
   "id": "8d91b2d8-68fb-4216-b966-99759470254f",
   "metadata": {},
   "outputs": [
    {
     "data": {
      "text/plain": [
       "['new_tc(1,f,b)',\n",
       " 'new_tc(1,a,c)',\n",
       " 'new_tc(1,b,d)',\n",
       " 'new_tc(1,c,e)',\n",
       " 'new_tc(1,d,f)',\n",
       " 'new_tc(1,e,a)',\n",
       " 'new_tc(2,e,b)',\n",
       " 'new_tc(2,f,c)',\n",
       " 'new_tc(2,a,d)',\n",
       " 'new_tc(2,b,e)',\n",
       " 'new_tc(2,c,f)',\n",
       " 'new_tc(2,d,a)',\n",
       " 'new_tc(3,d,b)',\n",
       " 'new_tc(3,e,c)',\n",
       " 'new_tc(3,f,d)',\n",
       " 'new_tc(3,a,e)',\n",
       " 'new_tc(3,b,f)',\n",
       " 'new_tc(3,c,a)',\n",
       " 'new_tc(4,c,b)',\n",
       " 'new_tc(4,d,c)',\n",
       " 'new_tc(4,e,d)',\n",
       " 'new_tc(4,f,e)',\n",
       " 'new_tc(4,a,f)',\n",
       " 'new_tc(4,b,a)',\n",
       " 'new_tc(5,b,b)',\n",
       " 'new_tc(5,c,c)',\n",
       " 'new_tc(5,d,d)',\n",
       " 'new_tc(5,e,e)',\n",
       " 'new_tc(5,f,f)',\n",
       " 'new_tc(5,a,a)',\n",
       " 'max_state(6)']"
      ]
     },
     "execution_count": 6,
     "metadata": {},
     "output_type": "execute_result"
    }
   ],
   "source": [
    "result"
   ]
  },
  {
   "cell_type": "markdown",
   "id": "371c3002-d7cb-4e96-9031-17b90530cdd6",
   "metadata": {},
   "source": [
    "## Using Clingo Python Pkg"
   ]
  },
  {
   "cell_type": "code",
   "execution_count": 7,
   "id": "67ebc047-a492-4f6c-8675-7a4fbe00fc10",
   "metadata": {},
   "outputs": [
    {
     "name": "stdout",
     "output_type": "stream",
     "text": [
      "Found solution: new_tc(1,f,b) new_tc(1,a,c) new_tc(1,b,d) new_tc(1,c,e) new_tc(1,d,f) new_tc(1,e,a) new_tc(2,e,b) new_tc(2,f,c) new_tc(2,a,d) new_tc(2,b,e) new_tc(2,c,f) new_tc(2,d,a) new_tc(3,d,b) new_tc(3,e,c) new_tc(3,f,d) new_tc(3,a,e) new_tc(3,b,f) new_tc(3,c,a) new_tc(4,c,b) new_tc(4,d,c) new_tc(4,e,d) new_tc(4,f,e) new_tc(4,a,f) new_tc(4,b,a) new_tc(5,b,b) new_tc(5,c,c) new_tc(5,d,d) new_tc(5,e,e) new_tc(5,f,f) new_tc(5,a,a) max_state(6)\n"
     ]
    }
   ],
   "source": [
    "result=[]\n",
    "global result\n",
    "\n",
    "def on_model(model):\n",
    "    print(\"Found solution:\", model)\n",
    "    for answer_set in str(model).split(\" \"):\n",
    "        result.append(answer_set)\n",
    "\n",
    "with open('test.lp') as f:\n",
    "    asp_code = f.read()\n",
    "\n",
    "ctl = clingo.Control()\n",
    "ctl.add(\"base\", [], asp_code)\n",
    "parts = []\n",
    "parts.append((\"base\", []))\n",
    "ctl.ground(parts)\n",
    "ret=ctl.solve(on_model=on_model)"
   ]
  },
  {
   "cell_type": "code",
   "execution_count": 8,
   "id": "b22ba540-28bc-47b5-a1b9-1832e52c48a5",
   "metadata": {},
   "outputs": [
    {
     "data": {
      "text/plain": [
       "['new_tc(1,f,b)',\n",
       " 'new_tc(1,a,c)',\n",
       " 'new_tc(1,b,d)',\n",
       " 'new_tc(1,c,e)',\n",
       " 'new_tc(1,d,f)',\n",
       " 'new_tc(1,e,a)',\n",
       " 'new_tc(2,e,b)',\n",
       " 'new_tc(2,f,c)',\n",
       " 'new_tc(2,a,d)',\n",
       " 'new_tc(2,b,e)',\n",
       " 'new_tc(2,c,f)',\n",
       " 'new_tc(2,d,a)',\n",
       " 'new_tc(3,d,b)',\n",
       " 'new_tc(3,e,c)',\n",
       " 'new_tc(3,f,d)',\n",
       " 'new_tc(3,a,e)',\n",
       " 'new_tc(3,b,f)',\n",
       " 'new_tc(3,c,a)',\n",
       " 'new_tc(4,c,b)',\n",
       " 'new_tc(4,d,c)',\n",
       " 'new_tc(4,e,d)',\n",
       " 'new_tc(4,f,e)',\n",
       " 'new_tc(4,a,f)',\n",
       " 'new_tc(4,b,a)',\n",
       " 'new_tc(5,b,b)',\n",
       " 'new_tc(5,c,c)',\n",
       " 'new_tc(5,d,d)',\n",
       " 'new_tc(5,e,e)',\n",
       " 'new_tc(5,f,f)',\n",
       " 'new_tc(5,a,a)',\n",
       " 'max_state(6)']"
      ]
     },
     "execution_count": 8,
     "metadata": {},
     "output_type": "execute_result"
    }
   ],
   "source": [
    "result"
   ]
  }
 ],
 "metadata": {
  "kernelspec": {
   "display_name": "Python 3 (ipykernel)",
   "language": "python",
   "name": "python3"
  },
  "language_info": {
   "codemirror_mode": {
    "name": "ipython",
    "version": 3
   },
   "file_extension": ".py",
   "mimetype": "text/x-python",
   "name": "python",
   "nbconvert_exporter": "python",
   "pygments_lexer": "ipython3",
   "version": "3.8.13"
  }
 },
 "nbformat": 4,
 "nbformat_minor": 5
}
