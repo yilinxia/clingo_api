{
 "cells": [
  {
   "cell_type": "markdown",
   "id": "e9626f91-016a-4b43-b8ff-78abf08666c1",
   "metadata": {},
   "source": [
    "Note: The section title is same as the paper [How to build your own ASP-based system?!](https://www.cambridge.org/core/journals/theory-and-practice-of-logic-programming/article/how-to-build-your-own-aspbased-system/EF826D6B5BC87BE640227CE3D65FFE18)"
   ]
  },
  {
   "cell_type": "markdown",
   "id": "f42dcc78-f77d-4edf-989b-6b35a12b66bd",
   "metadata": {},
   "source": [
    "### 4.1 Embedded Python code"
   ]
  },
  {
   "cell_type": "code",
   "execution_count": 1,
   "id": "645872de-2166-4f70-87e3-359c10dc3d7b",
   "metadata": {},
   "outputs": [
    {
     "name": "stdout",
     "output_type": "stream",
     "text": [
      "Writing example.lp\n"
     ]
    }
   ],
   "source": [
    "%%file example.lp\n",
    "\n",
    "num(3).\n",
    "num(6).\n",
    "div(N, @divisors(N)) :- num(N)."
   ]
  },
  {
   "cell_type": "code",
   "execution_count": 2,
   "id": "1e7d15d1-a870-4013-80f5-e43d869a3ce4",
   "metadata": {},
   "outputs": [
    {
     "name": "stdout",
     "output_type": "stream",
     "text": [
      "Writing embedded.lp\n"
     ]
    }
   ],
   "source": [
    "%%file embedded.lp\n",
    "\n",
    "#script (python)\n",
    "\n",
    "from clingo.symbol import Number \n",
    "\n",
    "def divisors(a): \n",
    "    a = a.number \n",
    "    for i in range(1, a+1):\n",
    "        if a % i == 0: \n",
    "            yield Number(i)\n",
    "\n",
    "#end."
   ]
  },
  {
   "cell_type": "code",
   "execution_count": 3,
   "id": "71301876-85ef-4913-a4aa-74113a4f75e1",
   "metadata": {},
   "outputs": [
    {
     "name": "stdout",
     "output_type": "stream",
     "text": [
      "clingo version 5.5.1\n",
      "Reading from example.lp ...\n",
      "Solving...\n",
      "Answer: 1\n",
      "num(3) num(6) div(3,1) div(3,3) div(6,1) div(6,2) div(6,3) div(6,6)\n",
      "SATISFIABLE\n",
      "\n",
      "Models       : 1\n",
      "Calls        : 1\n",
      "Time         : 0.085s (Solving: 0.00s 1st Model: 0.00s Unsat: 0.00s)\n",
      "CPU Time     : 0.078s\n"
     ]
    }
   ],
   "source": [
    "!clingo example.lp embedded.lp"
   ]
  },
  {
   "cell_type": "markdown",
   "id": "739447cf-55d3-47f5-bea9-4a3e20f9d557",
   "metadata": {},
   "source": [
    "### 4.2 The clingo Python module"
   ]
  },
  {
   "cell_type": "code",
   "execution_count": 4,
   "id": "1fa22d5f-34c0-448d-95de-7a8f344733a1",
   "metadata": {},
   "outputs": [
    {
     "name": "stdout",
     "output_type": "stream",
     "text": [
      "Writing module.py\n"
     ]
    }
   ],
   "source": [
    "%%file module.py\n",
    "\n",
    "from clingo.symbol import Number\n",
    "from clingo.control import Control\n",
    "\n",
    "class ExampleApp:\n",
    "    @staticmethod\n",
    "    def divisors(a):\n",
    "        a = a.number\n",
    "        for i in range(1, a+1):\n",
    "            if a % i == 0:\n",
    "                yield Number ( i )\n",
    "    def run ( self ):\n",
    "        ctl = Control ()\n",
    "        ctl . load ( \"example.lp\" )\n",
    "        ctl . ground ([( \"base\" , [])] , context = self )\n",
    "        ctl . solve (on_model = print)\n",
    "if __name__ == \"__main__\" :\n",
    "    ExampleApp (). run ()"
   ]
  },
  {
   "cell_type": "code",
   "execution_count": 5,
   "id": "d81840d3-57d5-4b0f-ac32-d763bdf5e30d",
   "metadata": {},
   "outputs": [
    {
     "name": "stdout",
     "output_type": "stream",
     "text": [
      "num(3) num(6) div(3,1) div(3,3) div(6,1) div(6,2) div(6,3) div(6,6)\n"
     ]
    }
   ],
   "source": [
    "!python module.py"
   ]
  },
  {
   "cell_type": "markdown",
   "id": "be3a7ae5-c326-4062-84ef-3dbf1866c83c",
   "metadata": {},
   "source": [
    "### 4.3 Implementing a system based on clingo"
   ]
  },
  {
   "cell_type": "code",
   "execution_count": 6,
   "id": "e6838650-c4a6-406e-836b-a10d04e0a8f2",
   "metadata": {},
   "outputs": [
    {
     "name": "stdout",
     "output_type": "stream",
     "text": [
      "Writing app.py\n"
     ]
    }
   ],
   "source": [
    "%%file app.py\n",
    "\n",
    "import sys\n",
    "from clingo.symbol import Number\n",
    "from clingo.application import Application, clingo_main\n",
    "\n",
    "\n",
    "class ExampleApp(Application):\n",
    "    program_name = \"example\"\n",
    "    version = \"1.0\"\n",
    "    \n",
    "    @staticmethod\n",
    "    def divisors(a):\n",
    "        a = a.number\n",
    "        for i in range(1, a+1):\n",
    "            if a % i == 0:\n",
    "                yield Number ( i )\n",
    "    \n",
    "    def main(self, ctl, files):\n",
    "        for path in files: \n",
    "            ctl.load(path)\n",
    "        if not files:\n",
    "            ctl.load ( \" -\" )\n",
    "        ctl.ground([( \"base\" , [])] , context = self )\n",
    "        ctl.solve()\n",
    "\n",
    "if __name__ == \"__main__\" :\n",
    "    clingo_main (ExampleApp(),sys.argv[1:])"
   ]
  },
  {
   "cell_type": "code",
   "execution_count": 7,
   "id": "728af658-38df-4287-95be-572642e80a23",
   "metadata": {},
   "outputs": [
    {
     "name": "stdout",
     "output_type": "stream",
     "text": [
      "example version 1.0\n",
      "Reading from example.lp\n",
      "Solving...\n",
      "Answer: 1\n",
      "num(3) num(6) div(3,1) div(3,3) div(6,1) div(6,2) div(6,3) div(6,6)\n",
      "SATISFIABLE\n",
      "\n",
      "Models       : 1+\n",
      "Calls        : 1\n",
      "Time         : 0.001s (Solving: 0.00s 1st Model: 0.00s Unsat: 0.00s)\n",
      "CPU Time     : 0.000s\n"
     ]
    }
   ],
   "source": [
    "!python app.py example.lp"
   ]
  }
 ],
 "metadata": {
  "kernelspec": {
   "display_name": "Python 3 (ipykernel)",
   "language": "python",
   "name": "python3"
  },
  "language_info": {
   "codemirror_mode": {
    "name": "ipython",
    "version": 3
   },
   "file_extension": ".py",
   "mimetype": "text/x-python",
   "name": "python",
   "nbconvert_exporter": "python",
   "pygments_lexer": "ipython3",
   "version": "3.8.12"
  }
 },
 "nbformat": 4,
 "nbformat_minor": 5
}
