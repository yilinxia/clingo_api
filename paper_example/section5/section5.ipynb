{
 "cells": [
  {
   "cell_type": "markdown",
   "id": "fda674c4-ceda-4ef7-b155-614e84fb3739",
   "metadata": {},
   "source": [
    "Note: The section title is same as the paper [How to build your own ASP-based system?!](https://www.cambridge.org/core/journals/theory-and-practice-of-logic-programming/article/how-to-build-your-own-aspbased-system/EF826D6B5BC87BE640227CE3D65FFE18)"
   ]
  },
  {
   "cell_type": "markdown",
   "id": "387b9f83-2046-453d-b7a7-a51e31a27f65",
   "metadata": {},
   "source": [
    "### 5.1 A gentle introduction"
   ]
  },
  {
   "cell_type": "code",
   "execution_count": 1,
   "id": "470760a3-a2a3-45c8-9902-a7b5303a60b1",
   "metadata": {},
   "outputs": [
    {
     "name": "stdout",
     "output_type": "stream",
     "text": [
      "Overwriting chemistry.lp\n"
     ]
    }
   ],
   "source": [
    "%%file chemistry.lp\n",
    "\n",
    "a(1).\n",
    "#program acid(k).\n",
    "b(k).\n",
    "c(X,k) :- a(X).\n",
    "#program base.\n",
    "a(2)."
   ]
  },
  {
   "cell_type": "code",
   "execution_count": 2,
   "id": "9f1b00ef-3d06-4357-9393-f35eb2a98c04",
   "metadata": {},
   "outputs": [
    {
     "name": "stdout",
     "output_type": "stream",
     "text": [
      "a(1) a(2)\n"
     ]
    },
    {
     "data": {
      "text/plain": [
       "SolveResult(1)"
      ]
     },
     "execution_count": 2,
     "metadata": {},
     "output_type": "execute_result"
    }
   ],
   "source": [
    "from clingo.control import Control\n",
    "\n",
    "ctl = Control()\n",
    "ctl.load(\"chemistry.lp\")\n",
    "ctl.ground([(\"base\", [])])\n",
    "ctl.solve(on_model=print)"
   ]
  },
  {
   "cell_type": "code",
   "execution_count": 3,
   "id": "33bf3120-0271-43a8-af98-afe6b4d1ff51",
   "metadata": {},
   "outputs": [
    {
     "name": "stdout",
     "output_type": "stream",
     "text": [
      "b(42)\n"
     ]
    },
    {
     "data": {
      "text/plain": [
       "SolveResult(1)"
      ]
     },
     "execution_count": 3,
     "metadata": {},
     "output_type": "execute_result"
    }
   ],
   "source": [
    "from clingo.symbol import Number\n",
    "from clingo.control import Control\n",
    "ctl = Control()\n",
    "ctl.load(\"chemistry.lp\")\n",
    "ctl.ground([(\"acid\",[Number (42)])])\n",
    "ctl.solve(on_model=print)"
   ]
  },
  {
   "cell_type": "markdown",
   "id": "d28acb4f-7de4-41a1-9a2a-88100845d9fa",
   "metadata": {},
   "source": [
    "### 5.2 Branch-and-bound-based optimization"
   ]
  },
  {
   "cell_type": "code",
   "execution_count": 4,
   "id": "7652c445-c8b3-4b68-8b57-ecd3708bc820",
   "metadata": {},
   "outputs": [
    {
     "name": "stdout",
     "output_type": "stream",
     "text": [
      "Overwriting tohB.lp\n"
     ]
    }
   ],
   "source": [
    "%%file tohB.lp\n",
    "\n",
    "% initial situation\n",
    "on(D,P,0) :- init_on(D,P).\n",
    "\n",
    "% check goal situation\n",
    "ngoal(T) :- on(D,P,T), not goal_on(D,P).\n",
    ":- ngoal(n).\n",
    "\n",
    "% state transition and state constraints\n",
    "1 { move(D,P,T) : disk(D), peg(P) } 1 :- ngoal(T-1), T<=n.\n",
    "\n",
    "move(D,T)        :- move(D,P,T).\n",
    "on(D,P,T)        :- move(D,P,T).\n",
    "on(D,P,T)        :- on(D,P,T-1), not move(D,T), T<=n.\n",
    "blocked(D-1,P,T) :- on(D,P,T-1).\n",
    "blocked(D-1,P,T) :- blocked(D,P,T), disk(D).\n",
    "\n",
    ":- move(D,P,T), blocked(D-1,P,T).\n",
    ":- move(D,T), on(D,P,T-1), blocked(D,P,T).\n",
    ":- disk(D), not 1 { on(D,P,T) } 1, T=1..n.\n",
    "\n",
    "#show move/3.\n",
    "\n",
    "_minimize(1,T) :- ngoal(T)."
   ]
  },
  {
   "cell_type": "code",
   "execution_count": 5,
   "id": "1b80ad90-56ce-44f8-9f4a-6049fd570a9c",
   "metadata": {},
   "outputs": [
    {
     "name": "stdout",
     "output_type": "stream",
     "text": [
      "Overwriting tohI.lp\n"
     ]
    }
   ],
   "source": [
    "%%file tohI.lp\n",
    "\n",
    "peg(a;b;c).\n",
    "disk(1..4).\n",
    "init_on(1..4,a).\n",
    "goal_on(1..4,c)."
   ]
  },
  {
   "cell_type": "code",
   "execution_count": 6,
   "id": "bcdc2520-457c-4d96-b72f-18a4b9c7a238",
   "metadata": {},
   "outputs": [
    {
     "name": "stdout",
     "output_type": "stream",
     "text": [
      "Overwriting opt.py\n"
     ]
    }
   ],
   "source": [
    "%%file opt.py\n",
    "\n",
    "import sys\n",
    "from clingo.symbol import Number, SymbolType\n",
    "from clingo.application import Application, clingo_main\n",
    "\n",
    "\n",
    "class OptExampleApp(Application):\n",
    "\n",
    "    program_name = 'opt-example'\n",
    "    version = '1.0'\n",
    "\n",
    "    def __init__(self):\n",
    "        self._bound = None\n",
    "\n",
    "    def _on_model(self, model):\n",
    "        self._bound = 0\n",
    "        for atom in model.symbols(atoms=True):\n",
    "            if atom.match('_minimize', 2) and atom.arguments[0].type \\\n",
    "                is SymbolType.Number:\n",
    "                self._bound += atom.arguments[0].number\n",
    "\n",
    "    def main(self, ctl, files):\n",
    "        if not files:\n",
    "            files = ['-']\n",
    "        for f in files:\n",
    "            ctl.load(f)\n",
    "        ctl.add('bound', ['b'],\n",
    "                ':- #sum{V,I : _minimize (V,I)} >= b.')\n",
    "        ctl.ground([('base', [])])\n",
    "\n",
    "        while ctl.solve(on_model=self._on_model).satisfiable:\n",
    "            print('Found new bound : {} '.format(self._bound))\n",
    "            ctl.ground([('bound', [Number(self._bound)])])\n",
    "\n",
    "        if self._bound is not None:\n",
    "            print('Optimum found')\n",
    "\n",
    "clingo_main(OptExampleApp(), sys.argv[1:])    "
   ]
  },
  {
   "cell_type": "code",
   "execution_count": 7,
   "id": "e1f4956d-bfbc-4f89-9ae6-fd1637b95e89",
   "metadata": {},
   "outputs": [
    {
     "name": "stdout",
     "output_type": "stream",
     "text": [
      "opt-example version 1.0\n",
      "Reading from tohB.lp ...\n",
      "Solving...\n",
      "Answer: 1\n",
      "move(3,c,2) move(4,b,1) move(4,a,3) move(4,c,4) move(2,b,5) move(4,a,6) move(3,b,7) move(4,c,8) move(4,b,9) move(1,c,10) move(4,c,11) move(3,a,12) move(4,a,13) move(2,c,14) move(4,b,15) move(3,c,16) move(4,c,17)\n",
      "Solving...\n",
      "Answer: 1\n",
      "move(3,c,2) move(4,b,1) move(4,c,3) move(2,b,4) move(4,a,5) move(3,b,6) move(4,c,7) move(4,b,8) move(1,c,9) move(4,c,10) move(3,a,11) move(4,a,12) move(2,c,13) move(4,b,14) move(3,c,15) move(4,c,16)\n",
      "Solving...\n",
      "Answer: 1\n",
      "move(3,c,2) move(4,b,1) move(4,c,3) move(2,b,4) move(4,a,5) move(3,b,6) move(4,b,7) move(1,c,8) move(4,c,9) move(3,a,10) move(4,a,11) move(2,c,12) move(4,b,13) move(3,c,14) move(4,c,15)\n",
      "Solving...\n",
      "UNSATISFIABLE\n",
      "\n",
      "Models       : 3\n",
      "Calls        : 4\n",
      "Time         : 0.018s (Solving: 0.01s 1st Model: 0.00s Unsat: 0.00s)\n",
      "CPU Time     : 0.016s\n",
      "Found new bound : 17 \n",
      "Found new bound : 16 \n",
      "Found new bound : 15 \n",
      "Optimum found\n"
     ]
    }
   ],
   "source": [
    "!python opt.py tohB.lp tohI.lp -c n=17"
   ]
  },
  {
   "cell_type": "markdown",
   "id": "dfd70ccc-dacb-4d65-8853-09b5caf2f781",
   "metadata": {},
   "source": [
    "### 5.3 Branch-and-bound-based optimization"
   ]
  },
  {
   "cell_type": "code",
   "execution_count": 8,
   "id": "be371c42-50ca-4cff-ac6c-e85deaffbfb4",
   "metadata": {},
   "outputs": [
    {
     "name": "stdout",
     "output_type": "stream",
     "text": [
      "Overwriting tohE.lp\n"
     ]
    }
   ],
   "source": [
    "%%file tohE.lp\n",
    "\n",
    "#program base.\n",
    "on(D,P,0) :- init_on(D,P).\n",
    "\n",
    "#program check(t).\n",
    ":- goal_on(D,P), not on(D,P,t), query(t).\n",
    "\n",
    "\n",
    "#program step(t).\n",
    "1 { move(D,P,t) : disk(D), peg(P) } 1.\n",
    "\n",
    "move(D,t)        :- move(D,P,t).\n",
    "on(D,P,t)        :- move(D,P,t).\n",
    "on(D,P,t)        :- on(D,P,t-1), not move(D,t).\n",
    "blocked(D-1,P,t) :- on(D,P,t-1).\n",
    "blocked(D-1,P,t) :- blocked(D,P,t), disk(D).\n",
    "\n",
    ":- move(D,P,t), blocked(D-1,P,t).\n",
    ":- move(D,t), on(D,P,t-1), blocked(D,P,t).\n",
    ":- disk(D), not 1 { on(D,P,t) } 1.\n",
    "\n",
    "#show move/3."
   ]
  },
  {
   "cell_type": "code",
   "execution_count": 9,
   "id": "2d961857-1ae5-4ac8-86f6-25ef7f6b0dc1",
   "metadata": {},
   "outputs": [
    {
     "name": "stdout",
     "output_type": "stream",
     "text": [
      "Overwriting inc.py\n"
     ]
    }
   ],
   "source": [
    "%%file inc.py\n",
    "\n",
    "'''\n",
    "Example implementing an iclingo-like application.\n",
    "'''\n",
    "\n",
    "import sys\n",
    "from typing import cast, Any, Callable, Optional, Sequence\n",
    "\n",
    "from clingo.application import clingo_main, Application, ApplicationOptions\n",
    "from clingo.control import Control\n",
    "from clingo.solving import SolveResult\n",
    "from clingo.symbol import Function, Number\n",
    "\n",
    "\n",
    "class IncConfig:\n",
    "    '''\n",
    "    Configuration object for incremental solving.\n",
    "    '''\n",
    "    imin: int\n",
    "    imax: Optional[int]\n",
    "    istop: str\n",
    "\n",
    "    def __init__(self):\n",
    "        self.imin = 1\n",
    "        self.imax = None\n",
    "        self.istop = \"SAT\"\n",
    "\n",
    "\n",
    "def parse_int(conf: Any,\n",
    "              attr: str,\n",
    "              min_value: Optional[int] = None,\n",
    "              optional: bool = False) -> Callable[[str], bool]:\n",
    "    '''\n",
    "    Returns a parser for integers.\n",
    "\n",
    "    The parser stores its result in the `attr` attribute (given as string) of\n",
    "    the `conf` object. The parser can be configured to only accept integers\n",
    "    having a minimum value and also to treat value `\"none\"` as `None`.\n",
    "    '''\n",
    "    def parse(sval: str) -> bool:\n",
    "        if optional and sval == \"none\":\n",
    "            value = None\n",
    "        else:\n",
    "            value = int(sval)\n",
    "            if min_value is not None and value < min_value:\n",
    "                raise RuntimeError(\"value too small\")\n",
    "        setattr(conf, attr, value)\n",
    "        return True\n",
    "    return parse\n",
    "\n",
    "\n",
    "def parse_stop(conf: Any, attr: str) -> Callable[[str], bool]:\n",
    "    '''\n",
    "    Returns a parser for `istop` values.\n",
    "    '''\n",
    "    def parse(sval: str) -> bool:\n",
    "        if sval not in (\"SAT\", \"UNSAT\", \"UNKNOWN\"):\n",
    "            raise RuntimeError(\"invalid value\")\n",
    "        setattr(conf, attr, sval)\n",
    "        return True\n",
    "    return parse\n",
    "\n",
    "\n",
    "class IncApp(Application):\n",
    "    '''\n",
    "    The example application implemeting incremental solving.\n",
    "    '''\n",
    "    program_name: str = \"inc-example\"\n",
    "    version: str = \"1.0\"\n",
    "    _conf: IncConfig\n",
    "\n",
    "    def __init__(self):\n",
    "        self._conf = IncConfig()\n",
    "\n",
    "    def register_options(self, options: ApplicationOptions):\n",
    "        '''\n",
    "        Register program options.\n",
    "        '''\n",
    "        group = \"Inc-Example Options\"\n",
    "\n",
    "        options.add(\n",
    "            group, \"imin\",\n",
    "            \"Minimum number of steps [{}]\".format(self._conf.imin),\n",
    "            parse_int(self._conf, \"imin\", min_value=0),\n",
    "            argument=\"<n>\")\n",
    "\n",
    "        options.add(\n",
    "            group, \"imax\",\n",
    "            \"Maximum number of steps [{}]\".format(self._conf.imax),\n",
    "            parse_int(self._conf, \"imax\", min_value=0, optional=True),\n",
    "            argument=\"<n>\")\n",
    "\n",
    "        options.add(\n",
    "            group, \"istop\",\n",
    "            \"Stop criterion [{}]\".format(self._conf.istop),\n",
    "            parse_stop(self._conf, \"istop\"))\n",
    "\n",
    "    def main(self, ctl: Control, files: Sequence[str]):\n",
    "        '''\n",
    "        The main function implementing incremental solving.\n",
    "        '''\n",
    "        if not files:\n",
    "            files = [\"-\"]\n",
    "        for file_ in files:\n",
    "            ctl.load(file_)\n",
    "        ctl.add(\"check\", [\"t\"], \"#external query(t).\")\n",
    "\n",
    "        conf = self._conf\n",
    "        step = 0\n",
    "        ret: Optional[SolveResult] = None\n",
    "\n",
    "        while ((conf.imax is None or step < conf.imax) and\n",
    "               (ret is None or step < conf.imin or (\n",
    "                   (conf.istop == \"SAT\" and not ret.satisfiable) or\n",
    "                   (conf.istop == \"UNSAT\" and not ret.unsatisfiable) or\n",
    "                   (conf.istop == \"UNKNOWN\" and not ret.unknown)))):\n",
    "            parts = []\n",
    "            parts.append((\"check\", [Number(step)]))\n",
    "            if step > 0:\n",
    "                ctl.release_external(Function(\"query\", [Number(step - 1)]))\n",
    "                parts.append((\"step\", [Number(step)]))\n",
    "            else:\n",
    "                parts.append((\"base\", []))\n",
    "            ctl.ground(parts)\n",
    "\n",
    "            ctl.assign_external(Function(\"query\", [Number(step)]), True)\n",
    "            ret, step = cast(SolveResult, ctl.solve()), step + 1\n",
    "\n",
    "\n",
    "clingo_main(IncApp(), sys.argv[1:])"
   ]
  },
  {
   "cell_type": "code",
   "execution_count": 10,
   "id": "1a1fb12c-09e6-489f-a02c-4efc5462d342",
   "metadata": {},
   "outputs": [
    {
     "name": "stdout",
     "output_type": "stream",
     "text": [
      "inc-example version 1.0\n",
      "Reading from tohE.lp ...\n",
      "Solving...\n",
      "Solving...\n",
      "Solving...\n",
      "Solving...\n",
      "Solving...\n",
      "Solving...\n",
      "Solving...\n",
      "Solving...\n",
      "Solving...\n",
      "Solving...\n",
      "Solving...\n",
      "Solving...\n",
      "Solving...\n",
      "Solving...\n",
      "Solving...\n",
      "Solving...\n",
      "Answer: 1\n",
      "move(4,b,1) move(3,c,2) move(4,c,3) move(2,b,4) move(4,a,5) move(3,b,6) move(4,b,7) move(1,c,8) move(4,c,9) move(3,a,10) move(4,a,11) move(2,c,12) move(4,b,13) move(3,c,14) move(4,c,15)\n",
      "SATISFIABLE\n",
      "\n",
      "Models       : 1+\n",
      "Calls        : 16\n",
      "Time         : 0.027s (Solving: 0.01s 1st Model: 0.00s Unsat: 0.01s)\n",
      "CPU Time     : 0.031s\n"
     ]
    },
    {
     "name": "stderr",
     "output_type": "stream",
     "text": [
      "tohE.lp:22:1-14: info: no atoms over signature occur in program:\n",
      "  move/3\n",
      "\n"
     ]
    }
   ],
   "source": [
    "!python inc.py tohE.lp tohI.lp"
   ]
  }
 ],
 "metadata": {
  "kernelspec": {
   "display_name": "Python 3 (ipykernel)",
   "language": "python",
   "name": "python3"
  },
  "language_info": {
   "codemirror_mode": {
    "name": "ipython",
    "version": 3
   },
   "file_extension": ".py",
   "mimetype": "text/x-python",
   "name": "python",
   "nbconvert_exporter": "python",
   "pygments_lexer": "ipython3",
   "version": "3.8.12"
  }
 },
 "nbformat": 4,
 "nbformat_minor": 5
}
