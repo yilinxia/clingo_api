{
 "cells": [
  {
   "cell_type": "markdown",
   "id": "7aa40e6b-c7f5-4b02-a872-471dc70f0600",
   "metadata": {},
   "source": [
    "Note: The section title is same as the paper [How to build your own ASP-based system?!](https://www.cambridge.org/core/journals/theory-and-practice-of-logic-programming/article/how-to-build-your-own-aspbased-system/EF826D6B5BC87BE640227CE3D65FFE18)"
   ]
  },
  {
   "cell_type": "markdown",
   "id": "0e09cea3-b19d-41f1-8d9e-3a27ec8f0099",
   "metadata": {},
   "source": [
    "### 6.1 Input language"
   ]
  },
  {
   "cell_type": "code",
   "execution_count": 4,
   "id": "f66627a2-66f7-4ca2-8612-78f17f957a2b",
   "metadata": {},
   "outputs": [
    {
     "name": "stdout",
     "output_type": "stream",
     "text": [
      "Overwriting lc.lp\n"
     ]
    }
   ],
   "source": [
    "%%file lc.lp\n",
    "\n",
    "#theory lc {\n",
    "    constant { - : 0, unary };\n",
    "    diff_term { - : 0, binary, left };\n",
    "    linear_term { + : 2, unary; - : 2, unary;\n",
    "                  * : 1, binary, left;\n",
    "                  + : 0, binary, left;\n",
    "                 - : 0, binary, left };\n",
    "    domain_term { .. : 1, binary, left };\n",
    "    show_term { / : 1, binary, left };\n",
    "    \n",
    "    &dom /0 : domain_term, {=} , linear_term, any ;\n",
    "    &sum /0 : linear_term, { <= , =, >= , <, > , !=} , linear_term, any ;\n",
    "    &diff /0 : diff_term, { <=} , constant, any ;\n",
    "    &show /0 : show_term, directive\n",
    "}.\n",
    "\n",
    "#const n =2. #const m =1000.\n",
    "\n",
    "task (1.. n ).\n",
    "duration ( T,200 * T ) :- task ( T ).\n",
    "&dom { 1.. m } = start ( T ) :- task ( T ).\n",
    "&dom { 1.. m } = end ( T ) :- task ( T ).\n",
    "&diff { end ( T ) - start ( T ) } <= D :- duration ( T,D ).\n",
    "&sum { end ( T ): task ( T ); - start ( T ): task ( T ) } <= m .\n",
    "&show { start /1; end /1 }."
   ]
  },
  {
   "cell_type": "code",
   "execution_count": 5,
   "id": "af1b0be3-489d-4bc8-87de-96057c16df1c",
   "metadata": {},
   "outputs": [
    {
     "name": "stdout",
     "output_type": "stream",
     "text": [
      "&show{(start/1); (end/1)}.\n",
      "task(1).\n",
      "task(2).\n",
      "&sum{end(1); end(2); (-start(1)); (-start(2))}<=(1000).\n",
      "duration(1,200).\n",
      "duration(2,400).\n",
      "&diff{(end(1)-start(1))}<=(200).\n",
      "&diff{(end(2)-start(2))}<=(400).\n",
      "&dom{(1..1000)}=(end(1)).\n",
      "&dom{(1..1000)}=(end(2)).\n",
      "&dom{(1..1000)}=(start(1)).\n",
      "&dom{(1..1000)}=(start(2)).\n"
     ]
    }
   ],
   "source": [
    "!gringo --text lc.lp"
   ]
  }
 ],
 "metadata": {
  "kernelspec": {
   "display_name": "Python 3 (ipykernel)",
   "language": "python",
   "name": "python3"
  },
  "language_info": {
   "codemirror_mode": {
    "name": "ipython",
    "version": 3
   },
   "file_extension": ".py",
   "mimetype": "text/x-python",
   "name": "python",
   "nbconvert_exporter": "python",
   "pygments_lexer": "ipython3",
   "version": "3.8.12"
  }
 },
 "nbformat": 4,
 "nbformat_minor": 5
}
