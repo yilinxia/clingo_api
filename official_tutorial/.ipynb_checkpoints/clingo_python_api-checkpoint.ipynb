{
 "cells": [
  {
   "cell_type": "markdown",
   "id": "81fa0b06-f2b5-4c5b-98d1-2c7f3e528d87",
   "metadata": {},
   "source": [
    "If the clingo application is build with Python support, clingo will also be able to execute Python code embedded in logic programs. Functions defined in a Python script block are callable during the instantiation process using @-syntax. The default grounding/solving process can be customized if a main function is provided.\n",
    "\n",
    "Note that gringo's precomputed terms (terms without variables and interpreted functions), called symbols in the following, are wrapped in the Symbol class. Furthermore, strings, numbers, and tuples can be passed wherever a symbol is expected - they are automatically converted into a Symbol object. Functions called during the grounding process from the logic program must either return a symbol or a sequence of symbols. If a sequence is returned, the corresponding @-term is successively substituted by the values in the sequence."
   ]
  },
  {
   "cell_type": "markdown",
   "id": "ebd07934",
   "metadata": {},
   "source": [
    "# Using Clingo within Python"
   ]
  },
  {
   "cell_type": "code",
   "execution_count": 5,
   "id": "369095e5",
   "metadata": {},
   "outputs": [
    {
     "name": "stdout",
     "output_type": "stream",
     "text": [
      "p(11) q(1) q(2)\n",
      "SAT\n"
     ]
    }
   ],
   "source": [
    "from clingo.symbol import Number\n",
    "from clingo.control import Control\n",
    "\n",
    "class Context:\n",
    "    def inc(self, x):\n",
    "        # numerical values will be converted to a Symbol Object\n",
    "        return Number(x.number + 1)\n",
    "    def seq(self, x, y):\n",
    "        return [x, y]\n",
    "\n",
    "def on_model(m):\n",
    "    print (m)\n",
    "\n",
    "ctl = Control()\n",
    "\n",
    "ctl.add(\"base\", [], \"\"\"\\\n",
    "p(@inc(10)).\n",
    "q(@seq(1,2)).\n",
    "\"\"\")\n",
    "\n",
    "ctl.ground([(\"base\", [])], context=Context())\n",
    "\n",
    "print(ctl.solve(on_model=on_model))"
   ]
  },
  {
   "cell_type": "code",
   "execution_count": 6,
   "id": "5229651a-76cb-4e77-8e60-d9c8b5514d32",
   "metadata": {},
   "outputs": [
    {
     "name": "stdout",
     "output_type": "stream",
     "text": [
      "Answer: p(11) q(1) q(2)\n"
     ]
    }
   ],
   "source": [
    "from clingo.symbol import Number\n",
    "from clingo.control import Control\n",
    "\n",
    "class Context:\n",
    "    def inc(self, x):\n",
    "        return Number(x.number + 1)\n",
    "    def seq(self, x, y):\n",
    "        return [x, y]\n",
    "\n",
    "def on_model(m):\n",
    "    print (m)\n",
    "\n",
    "ctl = Control()\n",
    "\n",
    "ctl.add(\"base\", [], \"\"\"\\\n",
    "p(@inc(10)).\n",
    "q(@seq(1,2)).\n",
    "\"\"\")\n",
    "\n",
    "ctl.ground([(\"base\", [])], context=Context())\n",
    "\n",
    "with ctl.solve(yield_=True) as handle:\n",
    "    for m in handle: print(\"Answer: {}\".format(m))\n",
    "    handle.get()"
   ]
  },
  {
   "cell_type": "markdown",
   "id": "26c92d81",
   "metadata": {},
   "source": [
    "# Using Python within Clingo"
   ]
  },
  {
   "cell_type": "code",
   "execution_count": 2,
   "id": "154761d7",
   "metadata": {},
   "outputs": [
    {
     "name": "stdout",
     "output_type": "stream",
     "text": [
      "Overwriting example.lp\n"
     ]
    }
   ],
   "source": [
    "%%file example.lp\n",
    "\n",
    "#script (python)\n",
    "\n",
    "from clingo.symbol import Number\n",
    "\n",
    "class Context:\n",
    "    def inc(self, x):\n",
    "        return Number(x.number)\n",
    "\n",
    "    def seq(self, x, y):\n",
    "        return [x, y]\n",
    "\n",
    "def main(prg):\n",
    "    prg.ground([(\"base\", [])], context=Context())\n",
    "    prg.solve()\n",
    "\n",
    "#end.\n",
    "\n",
    "p(@inc(10)).\n",
    "q(@seq(1,2))."
   ]
  },
  {
   "cell_type": "code",
   "execution_count": 3,
   "id": "37def765",
   "metadata": {},
   "outputs": [
    {
     "name": "stdout",
     "output_type": "stream",
     "text": [
      "clingo version 5.5.1\n",
      "Reading from example.lp\n",
      "Solving...\n",
      "Answer: 1\n",
      "p(10) q(1) q(2)\n",
      "SATISFIABLE\n",
      "\n",
      "Models       : 1\n",
      "Calls        : 1\n",
      "Time         : 0.109s (Solving: 0.00s 1st Model: 0.00s Unsat: 0.00s)\n",
      "CPU Time     : 0.109s\n"
     ]
    }
   ],
   "source": [
    "!clingo example.lp -n0"
   ]
  }
 ],
 "metadata": {
  "kernelspec": {
   "display_name": "Python 3 (ipykernel)",
   "language": "python",
   "name": "python3"
  },
  "language_info": {
   "codemirror_mode": {
    "name": "ipython",
    "version": 3
   },
   "file_extension": ".py",
   "mimetype": "text/x-python",
   "name": "python",
   "nbconvert_exporter": "python",
   "pygments_lexer": "ipython3",
   "version": "3.8.12"
  },
  "toc": {
   "base_numbering": 1,
   "nav_menu": {},
   "number_sections": true,
   "sideBar": true,
   "skip_h1_title": false,
   "title_cell": "Table of Contents",
   "title_sidebar": "Contents",
   "toc_cell": false,
   "toc_position": {},
   "toc_section_display": true,
   "toc_window_display": false
  }
 },
 "nbformat": 4,
 "nbformat_minor": 5
}
